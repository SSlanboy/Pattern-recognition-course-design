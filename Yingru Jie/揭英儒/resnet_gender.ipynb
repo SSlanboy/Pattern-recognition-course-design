{
 "cells": [
  {
   "cell_type": "markdown",
   "id": "608ad6c8-701f-4e2c-b7a7-314ec40735a1",
   "metadata": {},
   "source": [
    "转换成照片"
   ]
  },
  {
   "cell_type": "code",
   "execution_count": 1,
   "id": "214b804c-4106-4f26-976a-44ad4f5c1d7e",
   "metadata": {},
   "outputs": [
    {
     "name": "stdout",
     "output_type": "stream",
     "text": [
      "Error processing 1228: [Errno 2] No such file or directory: 'rawdata/1228'\n",
      "Error processing 1232: [Errno 2] No such file or directory: 'rawdata/1232'\n",
      "Error processing 1808: [Errno 2] No such file or directory: 'rawdata/1808'\n",
      "Error processing 4056: [Errno 2] No such file or directory: 'rawdata/4056'\n",
      "Error processing 4135: [Errno 2] No such file or directory: 'rawdata/4135'\n",
      "Error processing 4136: [Errno 2] No such file or directory: 'rawdata/4136'\n",
      "Error processing 5004: [Errno 2] No such file or directory: 'rawdata/5004'\n"
     ]
    }
   ],
   "source": [
    "import numpy as np\n",
    "import matplotlib.pyplot as plt\n",
    "import os\n",
    "\n",
    "# 创建目标文件夹\n",
    "os.makedirs('readyrawdata', exist_ok=True)\n",
    "\n",
    "for filename in range(1223, 5223):\n",
    "    file_path = f'rawdata/{filename}'\n",
    "    try:\n",
    "        with open(file_path, 'rb') as fid:\n",
    "            I = np.fromfile(fid, dtype=np.uint8)\n",
    "\n",
    "        # 判断是否为完整信息的图像\n",
    "        if len(I) == 128*128:\n",
    "            # 逆时针旋转90度\n",
    "            rotated_img = np.rot90(I.reshape(128, 128), k=1)\n",
    "\n",
    "            # 保存图像到目标文件夹\n",
    "            new_file_path = f'readyrawdata/{filename}.png'\n",
    "            plt.imsave(new_file_path, rotated_img, cmap='gray', vmin=0, vmax=255)\n",
    "    except Exception as e:\n",
    "        print(f\"Error processing {filename}: {str(e)}\")\n"
   ]
  },
  {
   "cell_type": "markdown",
   "id": "12ba8fdd-87f8-4305-acee-8b5e8ac0fe8c",
   "metadata": {},
   "source": [
    "生成带确实信息的npy文件"
   ]
  },
  {
   "cell_type": "code",
   "execution_count": 2,
   "id": "dd753c69-7614-4cbe-a5b9-1c792e2f6174",
   "metadata": {},
   "outputs": [
    {
     "name": "stdout",
     "output_type": "stream",
     "text": [
      "[('1223', 'male') ('1224', 'male') ('1225', 'male') ... ('3220', 'female')\n",
      " ('3221', 'female') ('3222', 'female')]\n"
     ]
    },
    {
     "name": "stderr",
     "output_type": "stream",
     "text": [
      "/home/ma-user/anaconda3/envs/PyTorch-1.8/lib/python3.7/site-packages/numpy/lib/format.py:425: UserWarning: Stored array in format 3.0. It can only be read by NumPy >= 1.17\n",
      "  header = _wrap_header_guess_version(header)\n"
     ]
    }
   ],
   "source": [
    "import numpy as np\n",
    "\n",
    "# 读取faceDR文件\n",
    "data = []\n",
    "with open('faceDR', 'r') as file:\n",
    "    for line in file:\n",
    "        if line.startswith(' '):\n",
    "            line = line.strip()\n",
    "            # 提取第一列和第三列数据\n",
    "            parts = line.split()\n",
    "            column1 = parts[0]\n",
    "            column3 = parts[2]\n",
    "            # 去掉括号和引号\n",
    "            column3 = column3.replace(\")\", \"\").replace(\"'\", \"\")\n",
    "            # 将第一列和处理后的第三列数据添加到data列表中\n",
    "            data.append((column1, column3))\n",
    "\n",
    "# 转换数据为NumPy数组\n",
    "arr = np.array(data, dtype=[('第一列', 'U10'), ('第三列', 'U10')])\n",
    "\n",
    "# 保存为.npy文件（保存在当前路径下）\n",
    "np.save('face_train.npy', arr)\n",
    "data2 = np.load('face_train.npy')\n",
    "print(data2)"
   ]
  },
  {
   "cell_type": "code",
   "execution_count": 3,
   "id": "19b0cbd7-3ccd-46bd-8ab2-9709a5de84b4",
   "metadata": {},
   "outputs": [
    {
     "name": "stdout",
     "output_type": "stream",
     "text": [
      "[('3223', 'female') ('3224', 'female') ('3225', 'male') ...\n",
      " ('5220', 'female') ('5221', 'female') ('5222', 'female')]\n"
     ]
    }
   ],
   "source": [
    "import numpy as np\n",
    "\n",
    "# 读取faceDS文件\n",
    "data = []\n",
    "with open('faceDS', 'r') as file:\n",
    "    for line in file:\n",
    "        if line.startswith(' '):\n",
    "            line = line.strip()\n",
    "            # 提取第一列和第三列数据\n",
    "            parts = line.split()\n",
    "            column1 = parts[0]\n",
    "            column3 = parts[2]\n",
    "            # 去掉括号和引号\n",
    "            column3 = column3.replace(\")\", \"\").replace(\"'\", \"\")\n",
    "            # 将第一列和处理后的第三列数据添加到data列表中\n",
    "            data.append((column1, column3))\n",
    "\n",
    "# 转换数据为NumPy数组\n",
    "arr = np.array(data, dtype=[('第一列', 'U10'), ('第三列', 'U10')])\n",
    "\n",
    "# 保存为.npy文件（保存在当前路径下）\n",
    "np.save('face_test.npy', arr)\n",
    "data2 = np.load('face_test.npy')\n",
    "print(data2)"
   ]
  },
  {
   "cell_type": "code",
   "execution_count": 4,
   "id": "bc34c275-fc66-4053-a500-a0c4b35eb145",
   "metadata": {},
   "outputs": [
    {
     "name": "stdout",
     "output_type": "stream",
     "text": [
      "[('1223', 'male') ('1224', 'male') ('1225', 'male') ... ('3220', 'female')\n",
      " ('3221', 'female') ('3222', 'female')]\n",
      "[('3223', 'female') ('3224', 'female') ('3225', 'male') ...\n",
      " ('5220', 'female') ('5221', 'female') ('5222', 'female')]\n"
     ]
    }
   ],
   "source": [
    "import numpy as np\n",
    "\n",
    "# 加载.npy文件\n",
    "data1 = np.load('face_train.npy')\n",
    "data2 = np.load('face_test.npy')\n",
    "# 打印内容\n",
    "print(data1)\n",
    "print(data2)"
   ]
  },
  {
   "cell_type": "markdown",
   "id": "0b713eeb-fa79-49fb-9db4-2eea2ac8a8f7",
   "metadata": {},
   "source": [
    "去除含有缺失信息的数据"
   ]
  },
  {
   "cell_type": "code",
   "execution_count": 5,
   "id": "811c3f90-b061-4b18-85b5-606a6ea555a7",
   "metadata": {},
   "outputs": [],
   "source": [
    "import numpy as np\n",
    "\n",
    "# 加载.npy文件\n",
    "data = np.load('face_train.npy')\n",
    "\n",
    "# 创建一个新列表，存储不包含缺失值的条目\n",
    "data_cleaned = [entry for entry in data if not any('descriptor' in field for field in entry)]\n",
    "\n",
    "# 将处理后的数据保存为.npy文件\n",
    "np.save('Train_data.npy', np.array(data_cleaned))\n",
    "\n",
    "# 加载.npy文件\n",
    "data = np.load('face_test.npy')\n",
    "\n",
    "# 创建一个新列表，存储不包含缺失值的条目\n",
    "data_cleaned = [entry for entry in data if not any('descriptor' in field for field in entry)]\n",
    "\n",
    "# 将处理后的数据保存为.npy文件\n",
    "np.save('Test_data.npy', np.array(data_cleaned))"
   ]
  },
  {
   "cell_type": "markdown",
   "id": "10f4c84b-bb83-45b9-98f4-d3c12cb8d5c1",
   "metadata": {},
   "source": [
    "调整数据集"
   ]
  },
  {
   "cell_type": "code",
   "execution_count": 6,
   "id": "c79ce3bf-3395-4fc3-9b8e-5a88ae39ef90",
   "metadata": {},
   "outputs": [
    {
     "name": "stdout",
     "output_type": "stream",
     "text": [
      "[]\n",
      "[('1223', 'male') ('1224', 'male') ('1225', 'male') ... ('5220', 'female')\n",
      " ('5221', 'female') ('5222', 'female')]\n"
     ]
    }
   ],
   "source": [
    "import numpy as np\n",
    "\n",
    "# 读取unprocessed_expression_train.npy和unprocessed_expression_test.npy文件\n",
    "train_data = np.load('Train_data.npy')\n",
    "test_data = np.load('Test_data.npy')\n",
    "\n",
    "# 计算要提取的数据的数量\n",
    "num_extract = int(len(train_data) * 1 )\n",
    "\n",
    "# 提取unprocessed_expression_train.npy的末尾三分之二数据\n",
    "extracted_data = train_data[-num_extract:]\n",
    "\n",
    "# 将extracted_data插入到unprocessed_expression_test.npy的开头\n",
    "combined_data = np.concatenate((extracted_data, test_data), axis=0)\n",
    "\n",
    "# 更新unprocessed_expression_train.npy，删除已提取的数据\n",
    "updated_train_data = train_data[:-num_extract]\n",
    "\n",
    "# 保存合并后的数据到unprocessed_expression_test.npy文件\n",
    "np.save('Test_data.npy', combined_data)\n",
    "\n",
    "# 保存更新后的unprocessed_expression_train.npy文件\n",
    "np.save('Train_data.npy', updated_train_data)\n",
    "import numpy as np\n",
    "\n",
    "# 加载.npy文件\n",
    "data1 = np.load('Train_data.npy')\n",
    "data2 = np.load('Test_data.npy')\n",
    "# 打印内容\n",
    "print(data1)\n",
    "print(data2)\n"
   ]
  },
  {
   "cell_type": "code",
   "execution_count": 7,
   "id": "782bf64d-42dd-4e2e-818a-8eb1d58875b8",
   "metadata": {},
   "outputs": [],
   "source": [
    "import numpy as np\n",
    "import torch\n",
    "import torch.nn as nn\n",
    "import torch.optim as optim\n",
    "from torch.utils.data import DataLoader, Dataset\n",
    "from torchvision.models import resnet18\n",
    "from torchvision.transforms import ToTensor, Normalize\n",
    "from PIL import Image\n",
    "import os"
   ]
  },
  {
   "cell_type": "code",
   "execution_count": 8,
   "id": "212b33fb-5a78-45ec-8472-0dd25ede52af",
   "metadata": {},
   "outputs": [],
   "source": [
    "# 自定义数据集类\n",
    "class CustomDataset(Dataset):\n",
    "    def __init__(self, ids, genders, transform=None):\n",
    "        self.ids = ids\n",
    "        self.genders = genders\n",
    "        self.transform = transform\n",
    "\n",
    "    def __len__(self):\n",
    "        return len(self.ids)\n",
    "\n",
    "    def __getitem__(self, idx):\n",
    "        image_id = self.ids[idx]\n",
    "        gender = self.genders[idx]\n",
    "        image_path = os.path.join(\"readyrawdata\", f\"{image_id}.png\")\n",
    "\n",
    "        if not os.path.exists(image_path):\n",
    "            return None, None\n",
    "\n",
    "        image = Image.open(image_path).convert('RGB')\n",
    "\n",
    "        if self.transform:\n",
    "            image = self.transform(image)\n",
    "\n",
    "        label = 0 if gender == '男' else 1\n",
    "\n",
    "        return image, label\n"
   ]
  },
  {
   "cell_type": "code",
   "execution_count": 9,
   "id": "40f8f4e4-645d-4202-99d0-a719a15cef04",
   "metadata": {},
   "outputs": [],
   "source": [
    "# 加载Train_data.npy和Test_data.npy\n",
    "'''\n",
    "train_data = np.load('Train_data.npy')\n",
    "test_data = np.load('Test_data.npy')import numpy as np\n",
    "'''\n",
    "# 加载Test_data.npy数据\n",
    "data = np.load('Test_data.npy')\n",
    "\n",
    "# 随机打乱数据\n",
    "np.random.shuffle(data)\n",
    "\n",
    "# 计算抽取一半数据的索引位置\n",
    "half = len(data) // 2\n",
    "\n",
    "# 分割数据为训练集和测试集\n",
    "train_data = data[:half]\n",
    "test_data = data[half:]"
   ]
  },
  {
   "cell_type": "code",
   "execution_count": 10,
   "id": "f14a2276-7bcb-411d-a455-e4050ce711d2",
   "metadata": {},
   "outputs": [
    {
     "name": "stdout",
     "output_type": "stream",
     "text": [
      "['male' 'female' 'male' ... 'female' 'male' 'male']\n"
     ]
    }
   ],
   "source": [
    "# 提取编号和性别信息\n",
    "train_ids = train_data['第一列'].astype(str)\n",
    "train_genders = train_data['第三列'].astype(str)\n",
    "test_ids = test_data['第一列'].astype(str)\n",
    "test_genders = test_data['第三列'].astype(str)\n",
    "print(test_genders)"
   ]
  },
  {
   "cell_type": "code",
   "execution_count": 11,
   "id": "55b173ae-75b0-4f97-ba03-090a743507c0",
   "metadata": {},
   "outputs": [
    {
     "name": "stdout",
     "output_type": "stream",
     "text": [
      "1996\n"
     ]
    }
   ],
   "source": [
    "# 创建训练集数据集对象\n",
    "train_dataset = CustomDataset(train_ids, train_genders, transform=ToTensor())\n",
    "print(len(train_dataset))\n"
   ]
  },
  {
   "cell_type": "code",
   "execution_count": 12,
   "id": "ea76d34f-a410-4a03-bbc7-23b3b70b42aa",
   "metadata": {},
   "outputs": [
    {
     "name": "stdout",
     "output_type": "stream",
     "text": [
      "1997\n"
     ]
    }
   ],
   "source": [
    "# 创建测试集数据集对象\n",
    "test_dataset = CustomDataset(test_ids, test_genders, transform=ToTensor())\n",
    "print(len(test_dataset))\n"
   ]
  },
  {
   "cell_type": "code",
   "execution_count": 13,
   "id": "c8dab7e4-485a-4be3-b203-195ffc0c3a60",
   "metadata": {},
   "outputs": [
    {
     "name": "stdout",
     "output_type": "stream",
     "text": [
      "1997\n"
     ]
    }
   ],
   "source": [
    "# 删除缺失图像的索引\n",
    "train_dataset.ids = [image_id for image_id in train_dataset.ids if image_id is not None]\n",
    "train_dataset.genders = [gender for gender, image_id in zip(train_dataset.genders, train_dataset.ids) if image_id is not None]\n",
    "\n",
    "test_dataset.ids = [image_id for image_id in test_dataset.ids if image_id is not None]\n",
    "test_dataset.genders = [gender for gender, image_id in zip(test_dataset.genders, test_dataset.ids) if image_id is not None]\n",
    "#print(test_dataset.ids)\n",
    "print(len(test_dataset.ids ))"
   ]
  },
  {
   "cell_type": "code",
   "execution_count": 14,
   "id": "d18b15ce-9542-49b1-ae00-ea3c8b6fb7cc",
   "metadata": {},
   "outputs": [],
   "source": [
    "def collate_fn(batch):\n",
    "    \"\"\"\n",
    "    自定义数据集合并函数\n",
    "\n",
    "    参数:\n",
    "        batch (list): 批次样本列表\n",
    "\n",
    "    返回:\n",
    "        tensor: 合并后的批次数据\n",
    "    \"\"\"\n",
    "    batch = [data for data in batch if data[0] is not None]\n",
    "    return torch.utils.data.dataloader.default_collate(batch)\n",
    "\n",
    "# 创建训练数据加载器\n",
    "train_loader = DataLoader(train_dataset, batch_size=128, shuffle=True, num_workers=4, collate_fn=collate_fn)\n",
    "\n",
    "# 创建测试数据加载器\n",
    "test_loader = DataLoader(test_dataset, batch_size=128, shuffle=False, num_workers=4, collate_fn=collate_fn)\n",
    "\n"
   ]
  },
  {
   "cell_type": "code",
   "execution_count": 15,
   "id": "66748533-d287-4e18-911e-a247271e434f",
   "metadata": {},
   "outputs": [
    {
     "name": "stdout",
     "output_type": "stream",
     "text": [
      "<torch.utils.data.dataloader.DataLoader object at 0x7f1fc6a3a210>\n"
     ]
    }
   ],
   "source": [
    "print(train_loader)"
   ]
  },
  {
   "cell_type": "code",
   "execution_count": 16,
   "id": "2cf2d35e-1688-43b8-9938-5ab07495d96d",
   "metadata": {},
   "outputs": [
    {
     "name": "stderr",
     "output_type": "stream",
     "text": [
      "Downloading: \"https://download.pytorch.org/models/resnet18-5c106cde.pth\" to /home/ma-user/.cache/torch/hub/checkpoints/resnet18-5c106cde.pth\n"
     ]
    },
    {
     "data": {
      "application/vnd.jupyter.widget-view+json": {
       "model_id": "c6377a3059fa48b3acd40cbff187ac9e",
       "version_major": 2,
       "version_minor": 0
      },
      "text/plain": [
       "  0%|          | 0.00/44.7M [00:00<?, ?B/s]"
      ]
     },
     "metadata": {},
     "output_type": "display_data"
    }
   ],
   "source": [
    "# 创建模型\n",
    "model = resnet18(pretrained=True)\n",
    "model.fc = nn.Linear(512, 2)\n",
    "\n",
    "# 将模型移至设备（GPU 或 CPU）\n",
    "device = torch.device('cuda' if torch.cuda.is_available() else 'cpu')\n",
    "model = model.to(device)\n"
   ]
  },
  {
   "cell_type": "code",
   "execution_count": 17,
   "id": "c030e876-7325-4f73-9697-e0cdb0ce7b81",
   "metadata": {},
   "outputs": [],
   "source": [
    "# 定义损失函数和优化器\n",
    "criterion = nn.CrossEntropyLoss()\n",
    "optimizer = optim.SGD(model.parameters(), lr=0.001, momentum=0)\n",
    "scheduler = optim.lr_scheduler.StepLR(optimizer, step_size=100, gamma=2)\n"
   ]
  },
  {
   "cell_type": "code",
   "execution_count": 18,
   "id": "19e3ccd9-bede-4cfd-9961-2c21a8c4ff91",
   "metadata": {},
   "outputs": [
    {
     "name": "stdout",
     "output_type": "stream",
     "text": [
      "Epoch 1/3 | Loss: 46.9952| Accuracy: 0.9739 \n",
      "Epoch 2/3 | Loss: 46.8487| Accuracy: 0.9995 \n",
      "Epoch 3/3 | Loss: 46.8148| Accuracy: 0.9995 \n",
      "Early stopping at epoch {epoch + 1}\n"
     ]
    }
   ],
   "source": [
    "# 定义训练函数\n",
    "       # print(f'Epoch {epoch + 1}/{num_epochs} | Loss: {epoch_loss:.4f} | Accuracy: {epoch_accuracy:.4f}')打印训练信息\n",
    "\n",
    "import torch\n",
    "import torch.nn as nn\n",
    "import torch.optim as optim\n",
    "\n",
    "# 定义训练函数\n",
    "def train_model(model, criterion, optimizer, scheduler, num_epochs, early_stopping_patience):\n",
    "    model.train()\n",
    "\n",
    "    best_accuracy = 0.0\n",
    "    best_model = None\n",
    "    early_stopping_counter = 0\n",
    "\n",
    "    for epoch in range(num_epochs):\n",
    "        running_loss = 0.0\n",
    "        correct_predictions = 0\n",
    "\n",
    "        for images, labels in train_loader:\n",
    "            # 将数据移至设备（GPU 或 CPU）\n",
    "            images = images.to(device)\n",
    "            labels = labels.to(device)\n",
    "\n",
    "            # 梯度归零\n",
    "            optimizer.zero_grad()\n",
    "\n",
    "            # 前向传播\n",
    "            outputs = model(images)\n",
    "            _, predicted = torch.max(outputs, 1)\n",
    "\n",
    "            # 计算损失\n",
    "            loss = criterion(outputs, labels)\n",
    "\n",
    "            # 添加正则化项\n",
    "            l2_regularization = 0.0\n",
    "            for param in model.parameters():\n",
    "                l2_regularization += torch.norm(param, 2)\n",
    "\n",
    "            loss += 0.1 * l2_regularization\n",
    "\n",
    "            # 反向传播及优化\n",
    "            loss.backward()\n",
    "            optimizer.step()\n",
    "\n",
    "            # 统计损失和准确率\n",
    "            running_loss += loss.item() * images.size(0)\n",
    "            correct_predictions += torch.sum(predicted == labels.data)\n",
    "\n",
    "        if scheduler is not None:\n",
    "            scheduler.step()\n",
    "\n",
    "        # 计算平均损失和准确率\n",
    "        epoch_loss = running_loss / len(train_dataset)\n",
    "        epoch_accuracy = correct_predictions.double() / len(train_dataset)\n",
    "\n",
    "        # 打印训练信息\n",
    "        print(f'Epoch {epoch + 1}/{num_epochs} | Loss: {epoch_loss:.4f}| Accuracy: {epoch_accuracy:.4f} ')\n",
    "\n",
    "        # 验证模型性能并进行早停法判断\n",
    "        #test_accuracy = test_model(model, criterion, test_loader)\n",
    "\n",
    "        if epoch_accuracy > best_accuracy:\n",
    "            best_accuracy = epoch_accuracy\n",
    "            best_model = model\n",
    "            early_stopping_counter = 0\n",
    "        else:\n",
    "            early_stopping_counter += 1\n",
    "\n",
    "        if early_stopping_counter >= early_stopping_patience:\n",
    "            print('Early stopping at epoch {epoch + 1}')\n",
    "            break\n",
    "\n",
    "    return best_model\n",
    "\n",
    "# 调用训练函数进行训练\n",
    "num_epochs = 3\n",
    "early_stopping_patience = 1\n",
    "best_model = train_model(model, criterion, optimizer, scheduler, num_epochs, early_stopping_patience)\n",
    "\n"
   ]
  },
  {
   "cell_type": "code",
   "execution_count": 19,
   "id": "d98ed54f-081c-4c6c-bada-034f8a4deda1",
   "metadata": {},
   "outputs": [],
   "source": [
    "# 定义测试函数\n",
    "def test_model(model, criterion, data_loader):\n",
    "    model.eval()\n",
    "\n",
    "    correct_predictions = 0\n",
    "\n",
    "    with torch.no_grad():\n",
    "        for images, labels in data_loader:\n",
    "            # 将数据移至设备（GPU 或 CPU）\n",
    "            images = images.to(device)\n",
    "            labels = labels.to(device)\n",
    "\n",
    "            # 前向传播\n",
    "            outputs = model(images)\n",
    "            _, predicted = torch.max(outputs, 1)\n",
    "\n",
    "            # 统计准确率\n",
    "            correct_predictions += torch.sum(predicted == labels.data)\n",
    "\n",
    "    accuracy = correct_predictions.double() / len(data_loader.dataset)\n",
    "\n",
    "    print(f'Test Accuracy: {accuracy:.4f}')\n",
    "\n",
    "    return accuracy\n"
   ]
  },
  {
   "cell_type": "code",
   "execution_count": 20,
   "id": "8b2b507e-54d2-4be8-9c52-dc0b49ad9bc6",
   "metadata": {},
   "outputs": [
    {
     "name": "stdout",
     "output_type": "stream",
     "text": [
      "Test Accuracy: 0.9995\n"
     ]
    },
    {
     "data": {
      "text/plain": [
       "tensor(0.9995, dtype=torch.float64)"
      ]
     },
     "execution_count": 20,
     "metadata": {},
     "output_type": "execute_result"
    }
   ],
   "source": [
    "# 调用测试函数\n",
    "test_model(best_model, criterion, test_loader)"
   ]
  },
  {
   "cell_type": "code",
   "execution_count": null,
   "id": "36a002af-04a0-4981-af50-8a39221cc95f",
   "metadata": {},
   "outputs": [],
   "source": []
  }
 ],
 "metadata": {
  "kernelspec": {
   "display_name": "PyTorch-1.8",
   "language": "python",
   "name": "pytorch-1.8"
  },
  "language_info": {
   "codemirror_mode": {
    "name": "ipython",
    "version": 3
   },
   "file_extension": ".py",
   "mimetype": "text/x-python",
   "name": "python",
   "nbconvert_exporter": "python",
   "pygments_lexer": "ipython3",
   "version": "3.7.10"
  }
 },
 "nbformat": 4,
 "nbformat_minor": 5
}
